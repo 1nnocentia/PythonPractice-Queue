{
  "nbformat": 4,
  "nbformat_minor": 0,
  "metadata": {
    "colab": {
      "provenance": []
    },
    "kernelspec": {
      "name": "python3",
      "display_name": "Python 3"
    },
    "language_info": {
      "name": "python"
    }
  },
  "cells": [
    {
      "cell_type": "markdown",
      "source": [
        "#1"
      ],
      "metadata": {
        "id": "g6LxEgGibagc"
      }
    },
    {
      "cell_type": "code",
      "source": [
        "from collections import deque"
      ],
      "metadata": {
        "id": "qyILSGGRO8TR"
      },
      "execution_count": 65,
      "outputs": []
    },
    {
      "cell_type": "code",
      "execution_count": 69,
      "metadata": {
        "id": "7L4rUeIF49yZ"
      },
      "outputs": [],
      "source": [
        "#fungsi untuk menjalankan pilihan transaksi\n",
        "#parameternya adalah choice(pilihan transaksi apa) dan siapa nasabah yang sedang dilayani\n",
        "def pilihan_transaksi (transaksi,nasabah):\n",
        "  #saldo nasabah diambil dari data_nasabah sesuai nama nasabah\n",
        "  saldo_nasabah = data_nasabah.get(nasabah)\n",
        "  #menggunakan switch case\n",
        "  match transaksi:\n",
        "    #tarik tunai\n",
        "    case 1:\n",
        "      tarik_saldo = int(input('Masukkan jumlah yang ingin ditarik: '))\n",
        "      #jika saldo nasabah mencukupi, dapat melakukan tarik saldo\n",
        "      if saldo_nasabah >= tarik_saldo:\n",
        "        #kurangi saldo awal dengan jumlah yang ditarik\n",
        "        data_nasabah[nasabah] -= tarik_saldo\n",
        "        #simpan saldo update\n",
        "        saldo_nasabah = data_nasabah[nasabah]\n",
        "        print(f\"{nasabah} berhasil menarik tunai Rp{tarik_saldo:,}.\")\n",
        "        print(f\"Saldo sekarang: Rp{saldo_nasabah:,}\")\n",
        "      else:\n",
        "        print('Saldo tidak mencukupi')\n",
        "    #cek saldo\n",
        "    case 2:\n",
        "      #print nama nasabah dan saldo nasabah saat ini\n",
        "      print(f'Saldo {nasabah}: Rp{data_nasabah[nasabah]:,}')\n",
        "    #setor tunai\n",
        "    case 3:\n",
        "      setor_saldo = int(input('Masukkan jumlah yang ingin disetor: '))\n",
        "      #menambahkan saldo awal dengan nilai yang dimasukkan\n",
        "      data_nasabah[nasabah] += setor_saldo\n",
        "      #simpan saldo update\n",
        "      saldo_nasabah = data_nasabah[nasabah]\n",
        "      print(f'{nasabah} berhasil setor tunai Rp{setor_saldo:,}.')\n",
        "      print(f'Saldo sekarang: Rp{saldo_nasabah:,}')"
      ]
    },
    {
      "cell_type": "code",
      "source": [
        "n = int(input('Masukkan jumlah nasabah: '))\n",
        "\n",
        "queue_nasabah = deque()\n",
        "data_nasabah = {}\n",
        "\n",
        "for i in range(n):\n",
        "  nama = input(f'Masukkan nama nasabah {i+1}: ')\n",
        "  if nama in data_nasabah:\n",
        "    continue\n",
        "  saldo_awal = int(input(f'Masukkan saldo awal {nama}: '))\n",
        "  data_nasabah[nama] = saldo_awal\n",
        "  queue_nasabah.append(nama)\n",
        "\n",
        "while queue_nasabah:\n",
        "  nasabah_dilayani = queue_nasabah.popleft()\n",
        "  print()\n",
        "  print(f'Nasabah {nasabah_dilayani} sedang dilayani.')\n",
        "\n",
        "  while True:\n",
        "    print()\n",
        "    print('Pilih transaksi:')\n",
        "    print('1. Tarik Tunai')\n",
        "    print('2. Cek Saldo')\n",
        "    print('3. Setor Tunai')\n",
        "    print('4. Selesai')\n",
        "    choice = int(input('Masukkan pilihan Anda: '))\n",
        "    pilihan_transaksi(choice,nasabah_dilayani)\n",
        "    if choice == 4:\n",
        "      print(f'{nasabah_dilayani} telah selesai melakukan transaksi')\n",
        "      break\n",
        "print()\n",
        "print('Antrian Kali ini Telah Selesai')"
      ],
      "metadata": {
        "colab": {
          "base_uri": "https://localhost:8080/"
        },
        "id": "MpxUCO8dJqsW",
        "outputId": "a1589b15-c429-4cba-841b-69a823931be0"
      },
      "execution_count": 72,
      "outputs": [
        {
          "output_type": "stream",
          "name": "stdout",
          "text": [
            "Masukkan jumlah nasabah: 2\n",
            "Masukkan nama nasabah 1: Andi\n",
            "Masukkan saldo awal Andi: 1000000\n",
            "Masukkan nama nasabah 2: Budi\n",
            "Masukkan saldo awal Budi: 200000\n",
            "\n",
            "Nasabah Andi sedang dilayani.\n",
            "\n",
            "Pilih transaksi:\n",
            "1. Tarik Tunai\n",
            "2. Cek Saldo\n",
            "3. Setor Tunai\n",
            "4. Selesai\n",
            "Masukkan pilihan Anda: 2\n",
            "Saldo Andi: Rp1,000,000\n",
            "\n",
            "Pilih transaksi:\n",
            "1. Tarik Tunai\n",
            "2. Cek Saldo\n",
            "3. Setor Tunai\n",
            "4. Selesai\n",
            "Masukkan pilihan Anda: 1\n",
            "Masukkan jumlah yang ingin ditarik: 200000\n",
            "Andi berhasil menarik tunai Rp200,000.\n",
            "Saldo sekarang: Rp800,000\n",
            "\n",
            "Pilih transaksi:\n",
            "1. Tarik Tunai\n",
            "2. Cek Saldo\n",
            "3. Setor Tunai\n",
            "4. Selesai\n",
            "Masukkan pilihan Anda: 4\n",
            "Andi telah selesai melakukan transaksi\n",
            "\n",
            "Nasabah Budi sedang dilayani.\n",
            "\n",
            "Pilih transaksi:\n",
            "1. Tarik Tunai\n",
            "2. Cek Saldo\n",
            "3. Setor Tunai\n",
            "4. Selesai\n",
            "Masukkan pilihan Anda: 4\n",
            "Budi telah selesai melakukan transaksi\n",
            "\n",
            "Antrian Kali ini Telah Selesai\n"
          ]
        }
      ]
    },
    {
      "cell_type": "markdown",
      "source": [
        "#2"
      ],
      "metadata": {
        "id": "OwopDFG0hoyQ"
      }
    },
    {
      "cell_type": "code",
      "source": [
        "#buat fungsi untuk mengecek kata palindrome atau bukan dengan stack/queue\n",
        "def word_processor(word):\n",
        "  #buat array kosong untuk iterasi kata\n",
        "  queue = []\n",
        "  stack = []\n",
        "  #iterasi tiap huruf dalam kata\n",
        "  for char in word:\n",
        "    #masukkan kedalam array\n",
        "    queue.append(char)\n",
        "    stack.append(char)\n",
        "  #looping akan terus berjalan sebanyak element yang ada dalam array queue\n",
        "  #elemen queue = stack\n",
        "  while queue:\n",
        "    #jika iterasi queue dan stack saat berjalan dan menemukan element yang berbeda\n",
        "    if queue.pop(0) != stack.pop():\n",
        "      #bukan palindrome\n",
        "      return False\n",
        "  #selain itu benar\n",
        "  return True"
      ],
      "metadata": {
        "id": "TeHwaj2DQ5Br"
      },
      "execution_count": 77,
      "outputs": []
    },
    {
      "cell_type": "code",
      "source": [
        "word_processor('radar')"
      ],
      "metadata": {
        "colab": {
          "base_uri": "https://localhost:8080/"
        },
        "id": "l13a76-6isxS",
        "outputId": "d586dea3-1a28-4ab4-95ba-d6c20f0de2ff"
      },
      "execution_count": 80,
      "outputs": [
        {
          "output_type": "execute_result",
          "data": {
            "text/plain": [
              "True"
            ]
          },
          "metadata": {},
          "execution_count": 80
        }
      ]
    },
    {
      "cell_type": "code",
      "source": [
        "word_processor('hello')"
      ],
      "metadata": {
        "colab": {
          "base_uri": "https://localhost:8080/"
        },
        "id": "eXHC67ITiu50",
        "outputId": "1eda5035-231b-4916-985e-514f49547fd5"
      },
      "execution_count": 81,
      "outputs": [
        {
          "output_type": "execute_result",
          "data": {
            "text/plain": [
              "False"
            ]
          },
          "metadata": {},
          "execution_count": 81
        }
      ]
    },
    {
      "cell_type": "code",
      "source": [],
      "metadata": {
        "id": "TfRdjeK6i2lE"
      },
      "execution_count": null,
      "outputs": []
    }
  ]
}